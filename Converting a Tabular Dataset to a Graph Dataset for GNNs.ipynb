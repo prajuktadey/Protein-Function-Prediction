{
 "cells": [
  {
   "cell_type": "markdown",
   "id": "eee0b108",
   "metadata": {},
   "source": [
    "### Graph Neural Networks "
   ]
  },
  {
   "cell_type": "code",
   "execution_count": 3,
   "id": "158614c1",
   "metadata": {
    "scrolled": true
   },
   "outputs": [
    {
     "name": "stderr",
     "output_type": "stream",
     "text": [
      "'wget' is not recognized as an internal or external command,\n",
      "operable program or batch file.\n",
      "'wget' is not recognized as an internal or external command,\n",
      "operable program or batch file.\n",
      "'wget' is not recognized as an internal or external command,\n",
      "operable program or batch file.\n"
     ]
    },
    {
     "name": "stdout",
     "output_type": "stream",
     "text": [
      "Players:  18767\n"
     ]
    },
    {
     "data": {
      "text/html": [
       "<div>\n",
       "<style scoped>\n",
       "    .dataframe tbody tr th:only-of-type {\n",
       "        vertical-align: middle;\n",
       "    }\n",
       "\n",
       "    .dataframe tbody tr th {\n",
       "        vertical-align: top;\n",
       "    }\n",
       "\n",
       "    .dataframe thead th {\n",
       "        text-align: right;\n",
       "    }\n",
       "</style>\n",
       "<table border=\"1\" class=\"dataframe\">\n",
       "  <thead>\n",
       "    <tr style=\"text-align: right;\">\n",
       "      <th></th>\n",
       "      <th>int_player_id</th>\n",
       "      <th>str_player_name</th>\n",
       "      <th>str_positions</th>\n",
       "      <th>int_overall_rating</th>\n",
       "      <th>int_team_id</th>\n",
       "      <th>int_long_passing</th>\n",
       "      <th>int_ball_control</th>\n",
       "      <th>int_dribbling</th>\n",
       "      <th>str_team_name</th>\n",
       "      <th>int_overall</th>\n",
       "    </tr>\n",
       "  </thead>\n",
       "  <tbody>\n",
       "    <tr>\n",
       "      <th>0</th>\n",
       "      <td>1</td>\n",
       "      <td>Lionel Andrés Messi Cuccittini</td>\n",
       "      <td>RW, ST, CF</td>\n",
       "      <td>93</td>\n",
       "      <td>5.0</td>\n",
       "      <td>91</td>\n",
       "      <td>96</td>\n",
       "      <td>96</td>\n",
       "      <td>FC Barcelona</td>\n",
       "      <td>84</td>\n",
       "    </tr>\n",
       "    <tr>\n",
       "      <th>33</th>\n",
       "      <td>2</td>\n",
       "      <td>Cristiano Ronaldo dos Santos Aveiro</td>\n",
       "      <td>ST, LW</td>\n",
       "      <td>92</td>\n",
       "      <td>6.0</td>\n",
       "      <td>77</td>\n",
       "      <td>92</td>\n",
       "      <td>88</td>\n",
       "      <td>Juventus</td>\n",
       "      <td>83</td>\n",
       "    </tr>\n",
       "    <tr>\n",
       "      <th>57</th>\n",
       "      <td>3</td>\n",
       "      <td>Jan Oblak</td>\n",
       "      <td>GK</td>\n",
       "      <td>91</td>\n",
       "      <td>8.0</td>\n",
       "      <td>40</td>\n",
       "      <td>30</td>\n",
       "      <td>12</td>\n",
       "      <td>Atlético Madrid</td>\n",
       "      <td>83</td>\n",
       "    </tr>\n",
       "    <tr>\n",
       "      <th>121</th>\n",
       "      <td>5</td>\n",
       "      <td>Neymar da Silva Santos Júnior</td>\n",
       "      <td>LW, CAM</td>\n",
       "      <td>91</td>\n",
       "      <td>7.0</td>\n",
       "      <td>81</td>\n",
       "      <td>95</td>\n",
       "      <td>95</td>\n",
       "      <td>Paris Saint-Germain</td>\n",
       "      <td>83</td>\n",
       "    </tr>\n",
       "    <tr>\n",
       "      <th>89</th>\n",
       "      <td>4</td>\n",
       "      <td>Kevin De Bruyne</td>\n",
       "      <td>CAM, CM</td>\n",
       "      <td>91</td>\n",
       "      <td>2.0</td>\n",
       "      <td>93</td>\n",
       "      <td>92</td>\n",
       "      <td>88</td>\n",
       "      <td>Manchester City</td>\n",
       "      <td>85</td>\n",
       "    </tr>\n",
       "  </tbody>\n",
       "</table>\n",
       "</div>"
      ],
      "text/plain": [
       "     int_player_id                      str_player_name str_positions  \\\n",
       "0                1       Lionel Andrés Messi Cuccittini    RW, ST, CF   \n",
       "33               2  Cristiano Ronaldo dos Santos Aveiro        ST, LW   \n",
       "57               3                            Jan Oblak            GK   \n",
       "121              5        Neymar da Silva Santos Júnior       LW, CAM   \n",
       "89               4                      Kevin De Bruyne       CAM, CM   \n",
       "\n",
       "     int_overall_rating  int_team_id  int_long_passing  int_ball_control  \\\n",
       "0                    93          5.0                91                96   \n",
       "33                   92          6.0                77                92   \n",
       "57                   91          8.0                40                30   \n",
       "121                  91          7.0                81                95   \n",
       "89                   91          2.0                93                92   \n",
       "\n",
       "     int_dribbling        str_team_name  int_overall  \n",
       "0               96         FC Barcelona           84  \n",
       "33              88             Juventus           83  \n",
       "57              12      Atlético Madrid           83  \n",
       "121             95  Paris Saint-Germain           83  \n",
       "89              88      Manchester City           85  "
      ]
     },
     "execution_count": 3,
     "metadata": {},
     "output_type": "execute_result"
    }
   ],
   "source": [
    "import pandas as pd\n",
    "\n",
    "# download data\n",
    "!wget -q https://raw.githubusercontent.com/batuhan-demirci/fifa21_dataset/master/data/tbl_player.csv\n",
    "!wget -q https://raw.githubusercontent.com/batuhan-demirci/fifa21_dataset/master/data/tbl_player_skill.csv\n",
    "!wget -q https://raw.githubusercontent.com/batuhan-demirci/fifa21_dataset/master/data/tbl_team.csv\n",
    "\n",
    "# loading data\n",
    "player_df = pd.read_csv(\"raw.githubusercontent.com_batuhan-demirci_fifa21_dataset_master_data_tbl_player.csv\")\n",
    "skill_df = pd.read_csv(\"raw.githubusercontent.com_batuhan-demirci_fifa21_dataset_master_data_tbl_player_skill.csv\")\n",
    "team_df = pd.read_csv(\"raw.githubusercontent.com_batuhan-demirci_fifa21_dataset_master_data_tbl_team.csv\")\n",
    "\n",
    "# extract subsets\n",
    "player_df = player_df[[\"int_player_id\", \"str_player_name\", \"str_positions\", \"int_overall_rating\", \"int_team_id\"]]\n",
    "skill_df = skill_df[[\"int_player_id\", \"int_long_passing\", \"int_ball_control\", \"int_dribbling\"]]\n",
    "team_df = team_df[[\"int_team_id\", \"str_team_name\", \"int_overall\"]]\n",
    "\n",
    "# merging data\n",
    "player_df = player_df.merge(skill_df, on='int_player_id')\n",
    "fifa_df = player_df.merge(team_df, on='int_team_id')\n",
    "\n",
    "# sorting the dataframe\n",
    "fifa_df = fifa_df.sort_values(by=\"int_overall_rating\", ascending=False)\n",
    "print(\"Players: \", fifa_df.shape[0])\n",
    "fifa_df.head()"
   ]
  },
  {
   "cell_type": "markdown",
   "id": "dde48a83",
   "metadata": {},
   "source": [
    "Let's first identify the graph-specific things we need:\n",
    "\n",
    "1. Nodes - Football players (by ID)\n",
    "2. Edges - If they play for the same team (see explanation below)\n",
    "3. Node Features - The football player's position, specialities, ball control, etc.\n",
    "4. Labels - The football player's overall rating (node-level regression task)\n",
    "\n",
    "Nodes are usually very straight-forward to identify - here we even have IDs. If you don't have a unique identifier, you need one, because you need to know between which nodes a connection exists!\n",
    "\n",
    "The most challenging task is typically to link these nodes somehow through edges. Here we define the edges based on the team assignment. With this dataset, we could predict the expected rating when a player switches to a new team or a new player is observed. Therefore we expect relational effects through the team assignment. Of course there are many other possibilities to define the edges such as:\n",
    "\n",
    "1. How many times two players played together (edge weight) --> Synergies\n",
    "2. How many times a player has won/los 1:1 duels (edge weight)\n",
    "3. Started their career in the same football club\n",
    "4. Temporal edges: \"Played together in the last 2 weeks\"\n"
   ]
  },
  {
   "cell_type": "code",
   "execution_count": 5,
   "id": "148b3013",
   "metadata": {
    "scrolled": true
   },
   "outputs": [
    {
     "data": {
      "text/plain": [
       "1"
      ]
     },
     "execution_count": 5,
     "metadata": {},
     "output_type": "execute_result"
    }
   ],
   "source": [
    "# checking for duplicate nodes\n",
    "max(fifa_df[\"int_player_id\"].value_counts())"
   ]
  },
  {
   "cell_type": "markdown",
   "id": "57d07fb8",
   "metadata": {},
   "source": [
    "Each football player ID occurs only once in our dataset."
   ]
  },
  {
   "cell_type": "code",
   "execution_count": 6,
   "id": "d03b7821",
   "metadata": {
    "scrolled": true
   },
   "outputs": [
    {
     "data": {
      "text/html": [
       "<div>\n",
       "<style scoped>\n",
       "    .dataframe tbody tr th:only-of-type {\n",
       "        vertical-align: middle;\n",
       "    }\n",
       "\n",
       "    .dataframe tbody tr th {\n",
       "        vertical-align: top;\n",
       "    }\n",
       "\n",
       "    .dataframe thead th {\n",
       "        text-align: right;\n",
       "    }\n",
       "</style>\n",
       "<table border=\"1\" class=\"dataframe\">\n",
       "  <thead>\n",
       "    <tr style=\"text-align: right;\">\n",
       "      <th></th>\n",
       "      <th>int_long_passing</th>\n",
       "      <th>int_ball_control</th>\n",
       "      <th>int_dribbling</th>\n",
       "      <th>CAM</th>\n",
       "      <th>CB</th>\n",
       "      <th>CDM</th>\n",
       "      <th>CF</th>\n",
       "      <th>CM</th>\n",
       "      <th>GK</th>\n",
       "      <th>LB</th>\n",
       "      <th>LM</th>\n",
       "      <th>LW</th>\n",
       "      <th>LWB</th>\n",
       "      <th>RB</th>\n",
       "      <th>RM</th>\n",
       "      <th>RW</th>\n",
       "      <th>RWB</th>\n",
       "      <th>ST</th>\n",
       "    </tr>\n",
       "  </thead>\n",
       "  <tbody>\n",
       "    <tr>\n",
       "      <th>0</th>\n",
       "      <td>91</td>\n",
       "      <td>96</td>\n",
       "      <td>96</td>\n",
       "      <td>0</td>\n",
       "      <td>0</td>\n",
       "      <td>0</td>\n",
       "      <td>0</td>\n",
       "      <td>0</td>\n",
       "      <td>0</td>\n",
       "      <td>0</td>\n",
       "      <td>0</td>\n",
       "      <td>0</td>\n",
       "      <td>0</td>\n",
       "      <td>0</td>\n",
       "      <td>0</td>\n",
       "      <td>1</td>\n",
       "      <td>0</td>\n",
       "      <td>0</td>\n",
       "    </tr>\n",
       "    <tr>\n",
       "      <th>33</th>\n",
       "      <td>77</td>\n",
       "      <td>92</td>\n",
       "      <td>88</td>\n",
       "      <td>0</td>\n",
       "      <td>0</td>\n",
       "      <td>0</td>\n",
       "      <td>0</td>\n",
       "      <td>0</td>\n",
       "      <td>0</td>\n",
       "      <td>0</td>\n",
       "      <td>0</td>\n",
       "      <td>0</td>\n",
       "      <td>0</td>\n",
       "      <td>0</td>\n",
       "      <td>0</td>\n",
       "      <td>0</td>\n",
       "      <td>0</td>\n",
       "      <td>1</td>\n",
       "    </tr>\n",
       "    <tr>\n",
       "      <th>57</th>\n",
       "      <td>40</td>\n",
       "      <td>30</td>\n",
       "      <td>12</td>\n",
       "      <td>0</td>\n",
       "      <td>0</td>\n",
       "      <td>0</td>\n",
       "      <td>0</td>\n",
       "      <td>0</td>\n",
       "      <td>1</td>\n",
       "      <td>0</td>\n",
       "      <td>0</td>\n",
       "      <td>0</td>\n",
       "      <td>0</td>\n",
       "      <td>0</td>\n",
       "      <td>0</td>\n",
       "      <td>0</td>\n",
       "      <td>0</td>\n",
       "      <td>0</td>\n",
       "    </tr>\n",
       "    <tr>\n",
       "      <th>89</th>\n",
       "      <td>93</td>\n",
       "      <td>92</td>\n",
       "      <td>88</td>\n",
       "      <td>1</td>\n",
       "      <td>0</td>\n",
       "      <td>0</td>\n",
       "      <td>0</td>\n",
       "      <td>0</td>\n",
       "      <td>0</td>\n",
       "      <td>0</td>\n",
       "      <td>0</td>\n",
       "      <td>0</td>\n",
       "      <td>0</td>\n",
       "      <td>0</td>\n",
       "      <td>0</td>\n",
       "      <td>0</td>\n",
       "      <td>0</td>\n",
       "      <td>0</td>\n",
       "    </tr>\n",
       "    <tr>\n",
       "      <th>121</th>\n",
       "      <td>81</td>\n",
       "      <td>95</td>\n",
       "      <td>95</td>\n",
       "      <td>0</td>\n",
       "      <td>0</td>\n",
       "      <td>0</td>\n",
       "      <td>0</td>\n",
       "      <td>0</td>\n",
       "      <td>0</td>\n",
       "      <td>0</td>\n",
       "      <td>0</td>\n",
       "      <td>1</td>\n",
       "      <td>0</td>\n",
       "      <td>0</td>\n",
       "      <td>0</td>\n",
       "      <td>0</td>\n",
       "      <td>0</td>\n",
       "      <td>0</td>\n",
       "    </tr>\n",
       "  </tbody>\n",
       "</table>\n",
       "</div>"
      ],
      "text/plain": [
       "     int_long_passing  int_ball_control  int_dribbling  CAM  CB  CDM  CF  CM  \\\n",
       "0                  91                96             96    0   0    0   0   0   \n",
       "33                 77                92             88    0   0    0   0   0   \n",
       "57                 40                30             12    0   0    0   0   0   \n",
       "89                 93                92             88    1   0    0   0   0   \n",
       "121                81                95             95    0   0    0   0   0   \n",
       "\n",
       "     GK  LB  LM  LW  LWB  RB  RM  RW  RWB  ST  \n",
       "0     0   0   0   0    0   0   0   1    0   0  \n",
       "33    0   0   0   0    0   0   0   0    0   1  \n",
       "57    1   0   0   0    0   0   0   0    0   0  \n",
       "89    0   0   0   0    0   0   0   0    0   0  \n",
       "121   0   0   0   1    0   0   0   0    0   0  "
      ]
     },
     "execution_count": 6,
     "metadata": {},
     "output_type": "execute_result"
    }
   ],
   "source": [
    "# sorting to define the order of nodes\n",
    "sorted_df = fifa_df.sort_values(by=\"int_player_id\")\n",
    "# selecting node features\n",
    "node_features = sorted_df[[\"str_positions\", \"int_long_passing\", \"int_ball_control\", \"int_dribbling\"]]\n",
    "# converting non-numeric columns\n",
    "pd.set_option('mode.chained_assignment', None)\n",
    "positions = node_features[\"str_positions\"].str.split(\",\", expand=True)\n",
    "node_features[\"first_position\"] = positions[0]\n",
    "# one-hot encoding\n",
    "node_features = pd.concat([node_features, pd.get_dummies(node_features[\"first_position\"])], axis=1, join='inner')\n",
    "node_features.drop([\"str_positions\", \"first_position\"], axis=1, inplace=True)\n",
    "node_features.head() "
   ]
  },
  {
   "cell_type": "markdown",
   "id": "cf0b30d6",
   "metadata": {},
   "source": [
    "The number of nodes and the ordering is implicitly defined by it's shape. Each row corresponds to one node in our final graph."
   ]
  },
  {
   "cell_type": "code",
   "execution_count": 7,
   "id": "17d85072",
   "metadata": {
    "scrolled": true
   },
   "outputs": [
    {
     "data": {
      "text/plain": [
       "(18767, 18)"
      ]
     },
     "execution_count": 7,
     "metadata": {},
     "output_type": "execute_result"
    }
   ],
   "source": [
    "# converting to numpy\n",
    "x = node_features.to_numpy()\n",
    "x.shape # [num_nodes x num_features]"
   ]
  },
  {
   "cell_type": "code",
   "execution_count": 8,
   "id": "37f79b62",
   "metadata": {
    "scrolled": true
   },
   "outputs": [
    {
     "data": {
      "text/html": [
       "<div>\n",
       "<style scoped>\n",
       "    .dataframe tbody tr th:only-of-type {\n",
       "        vertical-align: middle;\n",
       "    }\n",
       "\n",
       "    .dataframe tbody tr th {\n",
       "        vertical-align: top;\n",
       "    }\n",
       "\n",
       "    .dataframe thead th {\n",
       "        text-align: right;\n",
       "    }\n",
       "</style>\n",
       "<table border=\"1\" class=\"dataframe\">\n",
       "  <thead>\n",
       "    <tr style=\"text-align: right;\">\n",
       "      <th></th>\n",
       "      <th>int_overall</th>\n",
       "    </tr>\n",
       "  </thead>\n",
       "  <tbody>\n",
       "    <tr>\n",
       "      <th>0</th>\n",
       "      <td>84</td>\n",
       "    </tr>\n",
       "    <tr>\n",
       "      <th>33</th>\n",
       "      <td>83</td>\n",
       "    </tr>\n",
       "    <tr>\n",
       "      <th>57</th>\n",
       "      <td>83</td>\n",
       "    </tr>\n",
       "    <tr>\n",
       "      <th>89</th>\n",
       "      <td>85</td>\n",
       "    </tr>\n",
       "    <tr>\n",
       "      <th>121</th>\n",
       "      <td>83</td>\n",
       "    </tr>\n",
       "  </tbody>\n",
       "</table>\n",
       "</div>"
      ],
      "text/plain": [
       "     int_overall\n",
       "0             84\n",
       "33            83\n",
       "57            83\n",
       "89            85\n",
       "121           83"
      ]
     },
     "execution_count": 8,
     "metadata": {},
     "output_type": "execute_result"
    }
   ],
   "source": [
    "# sorting to define the order of nodes\n",
    "sorted_df = fifa_df.sort_values(by=\"int_player_id\")\n",
    "# selecting node features\n",
    "labels = sorted_df[[\"int_overall\"]]\n",
    "labels.head()"
   ]
  },
  {
   "cell_type": "code",
   "execution_count": 9,
   "id": "8753f165",
   "metadata": {},
   "outputs": [
    {
     "data": {
      "text/plain": [
       "(18767, 1)"
      ]
     },
     "execution_count": 9,
     "metadata": {},
     "output_type": "execute_result"
    }
   ],
   "source": [
    "# convert to numpy\n",
    "y = labels.to_numpy()\n",
    "y.shape # [num_nodes, 1] --> node regression"
   ]
  },
  {
   "cell_type": "code",
   "execution_count": 10,
   "id": "12e1b8dc",
   "metadata": {},
   "outputs": [],
   "source": [
    "# remapping player IDs\n",
    "fifa_df[\"int_player_id\"] = fifa_df.reset_index().index"
   ]
  },
  {
   "cell_type": "code",
   "execution_count": 11,
   "id": "bb4b6a87",
   "metadata": {
    "scrolled": false
   },
   "outputs": [
    {
     "data": {
      "text/plain": [
       "Everton                   36\n",
       "Valencia CF               34\n",
       "FC Nantes                 34\n",
       "Villarreal CF             34\n",
       "Real Valladolid CF        34\n",
       "                          ..\n",
       "Wellington Phoenix        19\n",
       "Central Coast Mariners    19\n",
       "Melbourne Victory         19\n",
       "Brisbane Roar             19\n",
       "Adelaide United           19\n",
       "Name: str_team_name, Length: 681, dtype: int64"
      ]
     },
     "execution_count": 11,
     "metadata": {},
     "output_type": "execute_result"
    }
   ],
   "source": [
    "# how many players we need to connect\n",
    "fifa_df[\"str_team_name\"].value_counts()"
   ]
  },
  {
   "cell_type": "markdown",
   "id": "b7310fbb",
   "metadata": {},
   "source": [
    "We now need to build all permutations of these players within one team, which corresponds to a fully-connected graph within each team-subgroup. We use the column int_player_id as indices for the edges. If there is for example a [0, 1] in the edge index, it means that the first and second node (regarding the previously defined node feature matrix) are connected."
   ]
  },
  {
   "cell_type": "code",
   "execution_count": 12,
   "id": "5980ba3a",
   "metadata": {},
   "outputs": [
    {
     "data": {
      "text/plain": [
       "array([[    0,     0,     0, ..., 18704, 18704, 18719],\n",
       "       [    7,    32,    45, ..., 18719, 18751, 18751]], dtype=int64)"
      ]
     },
     "execution_count": 12,
     "metadata": {},
     "output_type": "execute_result"
    }
   ],
   "source": [
    "import itertools\n",
    "import numpy as np\n",
    "\n",
    "teams = fifa_df[\"str_team_name\"].unique()\n",
    "all_edges = np.array([], dtype=np.int32).reshape((0, 2))\n",
    "for team in teams:\n",
    "    team_df = fifa_df[fifa_df[\"str_team_name\"] == team]\n",
    "    players = team_df[\"int_player_id\"].values\n",
    "    # building all combinations, as all players are connected\n",
    "    permutations = list(itertools.combinations(players, 2))\n",
    "    edges_source = [e[0] for e in permutations]\n",
    "    edges_target = [e[1] for e in permutations]\n",
    "    team_edges = np.column_stack([edges_source, edges_target])\n",
    "    all_edges = np.vstack([all_edges, team_edges])\n",
    "# converting to Pytorch Geometric format\n",
    "edge_index = all_edges.transpose()\n",
    "edge_index # [2, num_edges]"
   ]
  },
  {
   "cell_type": "markdown",
   "id": "661d57ee",
   "metadata": {},
   "source": [
    "The result are these source/target edge pairs. Here you can also model dircted or undirected edges by inluding both or just one direction (I included both). This COO format is usually chosen as it is more efficient than a NxN adjacency matrix."
   ]
  },
  {
   "cell_type": "code",
   "execution_count": 13,
   "id": "4d372211",
   "metadata": {},
   "outputs": [],
   "source": [
    "from torch_geometric.data import Data\n",
    "data = Data(x=x, edge_index=edge_index, y=y)"
   ]
  },
  {
   "cell_type": "markdown",
   "id": "b08d34e4",
   "metadata": {},
   "source": [
    "This data object represents one single graph."
   ]
  },
  {
   "cell_type": "code",
   "execution_count": 14,
   "id": "54a4270f",
   "metadata": {},
   "outputs": [],
   "source": [
    "from torch_geometric.loader import DataLoader\n",
    "data_list = [Data(...), ..., Data(...)]\n",
    "loader = DataLoader(data_list, batch_size=32)"
   ]
  },
  {
   "cell_type": "code",
   "execution_count": 15,
   "id": "6abbacf5",
   "metadata": {},
   "outputs": [
    {
     "data": {
      "text/plain": [
       "torch_geometric.data.data.Data"
      ]
     },
     "execution_count": 15,
     "metadata": {},
     "output_type": "execute_result"
    }
   ],
   "source": [
    "#printing \n",
    "Data"
   ]
  }
 ],
 "metadata": {
  "kernelspec": {
   "display_name": "Python 3 (ipykernel)",
   "language": "python",
   "name": "python3"
  },
  "language_info": {
   "codemirror_mode": {
    "name": "ipython",
    "version": 3
   },
   "file_extension": ".py",
   "mimetype": "text/x-python",
   "name": "python",
   "nbconvert_exporter": "python",
   "pygments_lexer": "ipython3",
   "version": "3.11.1"
  }
 },
 "nbformat": 4,
 "nbformat_minor": 5
}
