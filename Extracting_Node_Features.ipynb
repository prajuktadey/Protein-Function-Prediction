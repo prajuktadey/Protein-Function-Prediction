{
  "nbformat": 4,
  "nbformat_minor": 0,
  "metadata": {
    "colab": {
      "provenance": []
    },
    "kernelspec": {
      "name": "python3",
      "display_name": "Python 3"
    },
    "language_info": {
      "name": "python"
    }
  },
  "cells": [
    {
      "cell_type": "code",
      "execution_count": null,
      "metadata": {
        "colab": {
          "base_uri": "https://localhost:8080/"
        },
        "id": "-15FAiC42339",
        "outputId": "b51f1558-a8b0-45bc-f137-13007dcef23b"
      },
      "outputs": [
        {
          "output_type": "stream",
          "name": "stdout",
          "text": [
            "Requirement already satisfied: rdkit in /usr/local/lib/python3.10/dist-packages (2023.3.3)\n",
            "Requirement already satisfied: numpy in /usr/local/lib/python3.10/dist-packages (from rdkit) (1.23.5)\n",
            "Requirement already satisfied: Pillow in /usr/local/lib/python3.10/dist-packages (from rdkit) (9.4.0)\n"
          ]
        }
      ],
      "source": [
        "pip install rdkit"
      ]
    },
    {
      "cell_type": "code",
      "source": [
        "pip install torch"
      ],
      "metadata": {
        "colab": {
          "base_uri": "https://localhost:8080/"
        },
        "id": "LCua7o-L3Bhw",
        "outputId": "e4571533-a860-4276-a91e-86f5f39ad9d0"
      },
      "execution_count": null,
      "outputs": [
        {
          "output_type": "stream",
          "name": "stdout",
          "text": [
            "Requirement already satisfied: torch in /usr/local/lib/python3.10/dist-packages (2.0.1+cu118)\n",
            "Requirement already satisfied: filelock in /usr/local/lib/python3.10/dist-packages (from torch) (3.12.4)\n",
            "Requirement already satisfied: typing-extensions in /usr/local/lib/python3.10/dist-packages (from torch) (4.5.0)\n",
            "Requirement already satisfied: sympy in /usr/local/lib/python3.10/dist-packages (from torch) (1.12)\n",
            "Requirement already satisfied: networkx in /usr/local/lib/python3.10/dist-packages (from torch) (3.1)\n",
            "Requirement already satisfied: jinja2 in /usr/local/lib/python3.10/dist-packages (from torch) (3.1.2)\n",
            "Requirement already satisfied: triton==2.0.0 in /usr/local/lib/python3.10/dist-packages (from torch) (2.0.0)\n",
            "Requirement already satisfied: cmake in /usr/local/lib/python3.10/dist-packages (from triton==2.0.0->torch) (3.27.6)\n",
            "Requirement already satisfied: lit in /usr/local/lib/python3.10/dist-packages (from triton==2.0.0->torch) (17.0.2)\n",
            "Requirement already satisfied: MarkupSafe>=2.0 in /usr/local/lib/python3.10/dist-packages (from jinja2->torch) (2.1.3)\n",
            "Requirement already satisfied: mpmath>=0.19 in /usr/local/lib/python3.10/dist-packages (from sympy->torch) (1.3.0)\n",
            "\u001b[31mERROR: Operation cancelled by user\u001b[0m\u001b[31m\n",
            "\u001b[0mTraceback (most recent call last):\n",
            "  File \"/usr/local/lib/python3.10/dist-packages/pip/_vendor/pkg_resources/__init__.py\", line 3108, in _dep_map\n",
            "    return self.__dep_map\n",
            "  File \"/usr/local/lib/python3.10/dist-packages/pip/_vendor/pkg_resources/__init__.py\", line 2901, in __getattr__\n",
            "    raise AttributeError(attr)\n",
            "AttributeError: _DistInfoDistribution__dep_map\n",
            "\n",
            "During handling of the above exception, another exception occurred:\n",
            "\n",
            "Traceback (most recent call last):\n",
            "  File \"/usr/local/lib/python3.10/dist-packages/pip/_internal/cli/base_command.py\", line 169, in exc_logging_wrapper\n",
            "    status = run_func(*args)\n",
            "  File \"/usr/local/lib/python3.10/dist-packages/pip/_internal/cli/req_command.py\", line 242, in wrapper\n",
            "    return func(self, options, args)\n",
            "  File \"/usr/local/lib/python3.10/dist-packages/pip/_internal/commands/install.py\", line 441, in run\n",
            "    conflicts = self._determine_conflicts(to_install)\n",
            "  File \"/usr/local/lib/python3.10/dist-packages/pip/_internal/commands/install.py\", line 572, in _determine_conflicts\n",
            "    return check_install_conflicts(to_install)\n",
            "  File \"/usr/local/lib/python3.10/dist-packages/pip/_internal/operations/check.py\", line 101, in check_install_conflicts\n",
            "    package_set, _ = create_package_set_from_installed()\n",
            "  File \"/usr/local/lib/python3.10/dist-packages/pip/_internal/operations/check.py\", line 42, in create_package_set_from_installed\n",
            "    dependencies = list(dist.iter_dependencies())\n",
            "  File \"/usr/local/lib/python3.10/dist-packages/pip/_internal/metadata/pkg_resources.py\", line 216, in iter_dependencies\n",
            "    return self._dist.requires(extras)\n",
            "  File \"/usr/local/lib/python3.10/dist-packages/pip/_vendor/pkg_resources/__init__.py\", line 2821, in requires\n",
            "    dm = self._dep_map\n",
            "  File \"/usr/local/lib/python3.10/dist-packages/pip/_vendor/pkg_resources/__init__.py\", line 3110, in _dep_map\n",
            "    self.__dep_map = self._compute_dependencies()\n",
            "  File \"/usr/local/lib/python3.10/dist-packages/pip/_vendor/pkg_resources/__init__.py\", line 3120, in _compute_dependencies\n",
            "    reqs.extend(parse_requirements(req))\n",
            "  File \"/usr/local/lib/python3.10/dist-packages/pip/_vendor/pkg_resources/__init__.py\", line 3173, in __init__\n",
            "    super(Requirement, self).__init__(requirement_string)\n",
            "  File \"/usr/local/lib/python3.10/dist-packages/pip/_vendor/packaging/requirements.py\", line 102, in __init__\n",
            "    req = REQUIREMENT.parseString(requirement_string)\n",
            "  File \"/usr/local/lib/python3.10/dist-packages/pip/_vendor/pyparsing/core.py\", line 1131, in parse_string\n",
            "    loc, tokens = self._parse(instring, 0)\n",
            "  File \"/usr/local/lib/python3.10/dist-packages/pip/_vendor/pyparsing/core.py\", line 817, in _parseNoCache\n",
            "    loc, tokens = self.parseImpl(instring, pre_loc, doActions)\n",
            "  File \"/usr/local/lib/python3.10/dist-packages/pip/_vendor/pyparsing/core.py\", line 3886, in parseImpl\n",
            "    loc, exprtokens = e._parse(instring, loc, doActions)\n",
            "  File \"/usr/local/lib/python3.10/dist-packages/pip/_vendor/pyparsing/core.py\", line 817, in _parseNoCache\n",
            "    loc, tokens = self.parseImpl(instring, pre_loc, doActions)\n",
            "  File \"/usr/local/lib/python3.10/dist-packages/pip/_vendor/pyparsing/core.py\", line 4114, in parseImpl\n",
            "    return e._parse(\n",
            "  File \"/usr/local/lib/python3.10/dist-packages/pip/_vendor/pyparsing/core.py\", line 817, in _parseNoCache\n",
            "    loc, tokens = self.parseImpl(instring, pre_loc, doActions)\n",
            "  File \"/usr/local/lib/python3.10/dist-packages/pip/_vendor/pyparsing/core.py\", line 3886, in parseImpl\n",
            "    loc, exprtokens = e._parse(instring, loc, doActions)\n",
            "  File \"/usr/local/lib/python3.10/dist-packages/pip/_vendor/pyparsing/core.py\", line 817, in _parseNoCache\n",
            "    loc, tokens = self.parseImpl(instring, pre_loc, doActions)\n",
            "  File \"/usr/local/lib/python3.10/dist-packages/pip/_vendor/pyparsing/core.py\", line 4959, in parseImpl\n",
            "    loc, tokens = self_expr._parse(instring, loc, doActions, callPreParse=False)\n",
            "  File \"/usr/local/lib/python3.10/dist-packages/pip/_vendor/pyparsing/core.py\", line 817, in _parseNoCache\n",
            "    loc, tokens = self.parseImpl(instring, pre_loc, doActions)\n",
            "  File \"/usr/local/lib/python3.10/dist-packages/pip/_vendor/pyparsing/core.py\", line 3886, in parseImpl\n",
            "    loc, exprtokens = e._parse(instring, loc, doActions)\n",
            "  File \"/usr/local/lib/python3.10/dist-packages/pip/_vendor/pyparsing/core.py\", line 817, in _parseNoCache\n",
            "    loc, tokens = self.parseImpl(instring, pre_loc, doActions)\n",
            "  File \"/usr/local/lib/python3.10/dist-packages/pip/_vendor/pyparsing/core.py\", line 3886, in parseImpl\n",
            "    loc, exprtokens = e._parse(instring, loc, doActions)\n",
            "  File \"/usr/local/lib/python3.10/dist-packages/pip/_vendor/pyparsing/core.py\", line 817, in _parseNoCache\n",
            "    loc, tokens = self.parseImpl(instring, pre_loc, doActions)\n",
            "  File \"/usr/local/lib/python3.10/dist-packages/pip/_vendor/pyparsing/core.py\", line 5226, in parseImpl\n",
            "    return super().parseImpl(instring, loc, doActions)\n",
            "  File \"/usr/local/lib/python3.10/dist-packages/pip/_vendor/pyparsing/core.py\", line 4375, in parseImpl\n",
            "    return self.expr._parse(instring, loc, doActions, callPreParse=False)\n",
            "  File \"/usr/local/lib/python3.10/dist-packages/pip/_vendor/pyparsing/core.py\", line 817, in _parseNoCache\n",
            "    loc, tokens = self.parseImpl(instring, pre_loc, doActions)\n",
            "  File \"/usr/local/lib/python3.10/dist-packages/pip/_vendor/pyparsing/core.py\", line 3864, in parseImpl\n",
            "    loc, resultlist = self.exprs[0]._parse(\n",
            "  File \"/usr/local/lib/python3.10/dist-packages/pip/_vendor/pyparsing/core.py\", line 817, in _parseNoCache\n",
            "    loc, tokens = self.parseImpl(instring, pre_loc, doActions)\n",
            "  File \"/usr/local/lib/python3.10/dist-packages/pip/_vendor/pyparsing/core.py\", line 4114, in parseImpl\n",
            "    return e._parse(\n",
            "  File \"/usr/local/lib/python3.10/dist-packages/pip/_vendor/pyparsing/core.py\", line 817, in _parseNoCache\n",
            "    loc, tokens = self.parseImpl(instring, pre_loc, doActions)\n",
            "  File \"/usr/local/lib/python3.10/dist-packages/pip/_vendor/pyparsing/core.py\", line 4375, in parseImpl\n",
            "    return self.expr._parse(instring, loc, doActions, callPreParse=False)\n",
            "  File \"/usr/local/lib/python3.10/dist-packages/pip/_vendor/pyparsing/core.py\", line 817, in _parseNoCache\n",
            "    loc, tokens = self.parseImpl(instring, pre_loc, doActions)\n",
            "  File \"/usr/local/lib/python3.10/dist-packages/pip/_vendor/pyparsing/core.py\", line 3864, in parseImpl\n",
            "    loc, resultlist = self.exprs[0]._parse(\n",
            "  File \"/usr/local/lib/python3.10/dist-packages/pip/_vendor/pyparsing/core.py\", line 817, in _parseNoCache\n",
            "    loc, tokens = self.parseImpl(instring, pre_loc, doActions)\n",
            "  File \"/usr/local/lib/python3.10/dist-packages/pip/_vendor/pyparsing/core.py\", line 4114, in parseImpl\n",
            "    return e._parse(\n",
            "  File \"/usr/local/lib/python3.10/dist-packages/pip/_vendor/pyparsing/core.py\", line 817, in _parseNoCache\n",
            "    loc, tokens = self.parseImpl(instring, pre_loc, doActions)\n",
            "  File \"/usr/local/lib/python3.10/dist-packages/pip/_vendor/pyparsing/core.py\", line 4114, in parseImpl\n",
            "    return e._parse(\n",
            "  File \"/usr/local/lib/python3.10/dist-packages/pip/_vendor/pyparsing/core.py\", line 825, in _parseNoCache\n",
            "    ret_tokens = ParseResults(\n",
            "KeyboardInterrupt\n",
            "\n",
            "During handling of the above exception, another exception occurred:\n",
            "\n",
            "Traceback (most recent call last):\n",
            "  File \"/usr/local/bin/pip3\", line 8, in <module>\n",
            "    sys.exit(main())\n",
            "  File \"/usr/local/lib/python3.10/dist-packages/pip/_internal/cli/main.py\", line 79, in main\n",
            "    return command.main(cmd_args)\n",
            "  File \"/usr/local/lib/python3.10/dist-packages/pip/_internal/cli/base_command.py\", line 101, in main\n",
            "    return self._main(args)\n",
            "  File \"/usr/local/lib/python3.10/dist-packages/pip/_internal/cli/base_command.py\", line 223, in _main\n",
            "    return run(options, args)\n",
            "  File \"/usr/local/lib/python3.10/dist-packages/pip/_internal/cli/base_command.py\", line 206, in exc_logging_wrapper\n",
            "    logger.critical(\"Operation cancelled by user\")\n",
            "  File \"/usr/lib/python3.10/logging/__init__.py\", line 1524, in critical\n",
            "    self._log(CRITICAL, msg, args, **kwargs)\n",
            "  File \"/usr/lib/python3.10/logging/__init__.py\", line 1624, in _log\n",
            "    self.handle(record)\n",
            "  File \"/usr/lib/python3.10/logging/__init__.py\", line 1634, in handle\n",
            "    self.callHandlers(record)\n",
            "  File \"/usr/lib/python3.10/logging/__init__.py\", line 1696, in callHandlers\n",
            "    hdlr.handle(record)\n",
            "  File \"/usr/lib/python3.10/logging/__init__.py\", line 968, in handle\n",
            "    self.emit(record)\n",
            "  File \"/usr/lib/python3.10/logging/handlers.py\", line 75, in emit\n",
            "    logging.FileHandler.emit(self, record)\n",
            "  File \"/usr/lib/python3.10/logging/__init__.py\", line 1218, in emit\n",
            "    StreamHandler.emit(self, record)\n",
            "  File \"/usr/lib/python3.10/logging/__init__.py\", line 1100, in emit\n",
            "    msg = self.format(record)\n",
            "  File \"/usr/lib/python3.10/logging/__init__.py\", line 943, in format\n",
            "    return fmt.format(record)\n",
            "  File \"/usr/local/lib/python3.10/dist-packages/pip/_internal/utils/logging.py\", line 107, in format\n",
            "    def format(self, record: logging.LogRecord) -> str:\n",
            "KeyboardInterrupt\n",
            "^C\n"
          ]
        }
      ]
    },
    {
      "cell_type": "code",
      "source": [
        "pip install torch_geometric"
      ],
      "metadata": {
        "colab": {
          "base_uri": "https://localhost:8080/"
        },
        "id": "-4SIUS-33FkF",
        "outputId": "2cd76291-e143-4c10-ae1c-4ea681f4d700"
      },
      "execution_count": null,
      "outputs": [
        {
          "output_type": "stream",
          "name": "stdout",
          "text": [
            "Requirement already satisfied: torch_geometric in /usr/local/lib/python3.10/dist-packages (2.3.1)\n",
            "Requirement already satisfied: tqdm in /usr/local/lib/python3.10/dist-packages (from torch_geometric) (4.66.1)\n",
            "Requirement already satisfied: numpy in /usr/local/lib/python3.10/dist-packages (from torch_geometric) (1.23.5)\n",
            "Requirement already satisfied: scipy in /usr/local/lib/python3.10/dist-packages (from torch_geometric) (1.11.3)\n",
            "Requirement already satisfied: jinja2 in /usr/local/lib/python3.10/dist-packages (from torch_geometric) (3.1.2)\n",
            "Requirement already satisfied: requests in /usr/local/lib/python3.10/dist-packages (from torch_geometric) (2.31.0)\n",
            "Requirement already satisfied: pyparsing in /usr/local/lib/python3.10/dist-packages (from torch_geometric) (3.1.1)\n",
            "Requirement already satisfied: scikit-learn in /usr/local/lib/python3.10/dist-packages (from torch_geometric) (1.2.2)\n",
            "Requirement already satisfied: psutil>=5.8.0 in /usr/local/lib/python3.10/dist-packages (from torch_geometric) (5.9.5)\n",
            "Requirement already satisfied: MarkupSafe>=2.0 in /usr/local/lib/python3.10/dist-packages (from jinja2->torch_geometric) (2.1.3)\n",
            "Requirement already satisfied: charset-normalizer<4,>=2 in /usr/local/lib/python3.10/dist-packages (from requests->torch_geometric) (3.3.0)\n",
            "Requirement already satisfied: idna<4,>=2.5 in /usr/local/lib/python3.10/dist-packages (from requests->torch_geometric) (3.4)\n",
            "Requirement already satisfied: urllib3<3,>=1.21.1 in /usr/local/lib/python3.10/dist-packages (from requests->torch_geometric) (2.0.6)\n",
            "Requirement already satisfied: certifi>=2017.4.17 in /usr/local/lib/python3.10/dist-packages (from requests->torch_geometric) (2023.7.22)\n",
            "Requirement already satisfied: joblib>=1.1.1 in /usr/local/lib/python3.10/dist-packages (from scikit-learn->torch_geometric) (1.3.2)\n",
            "Requirement already satisfied: threadpoolctl>=2.0.0 in /usr/local/lib/python3.10/dist-packages (from scikit-learn->torch_geometric) (3.2.0)\n"
          ]
        }
      ]
    },
    {
      "cell_type": "code",
      "source": [
        "#importing the necessary modules\n",
        "import csv\n",
        "from rdkit import Chem\n",
        "from rdkit.Chem import PandasTools\n",
        "from rdkit.Chem import DataStructs\n",
        "from rdkit.Chem import AllChem\n",
        "\n",
        "import torch\n",
        "from torch_geometric.data import Data"
      ],
      "metadata": {
        "id": "nJ4YESB-3Izy"
      },
      "execution_count": null,
      "outputs": []
    },
    {
      "cell_type": "code",
      "source": [
        "import networkx as nx\n",
        "import numpy as np\n",
        "from sklearn.model_selection import train_test_split"
      ],
      "metadata": {
        "id": "4GAWFMBJ3OH5"
      },
      "execution_count": null,
      "outputs": []
    },
    {
      "cell_type": "code",
      "source": [
        "def convert_protein_sequence_to_graph(sequence):\n",
        "    graph = nx.Graph()\n",
        "    # Create a node for each amino acid in the sequence.\n",
        "    for amino_acid in sequence:\n",
        "        graph.add_node(amino_acid)\n",
        "\n",
        "    # Connect the nodes with edges based on the interactions between the amino acids.\n",
        "    for i in range(len(sequence) - 1):\n",
        "        graph.add_edge(sequence[i], sequence[i + 1])\n",
        "\n",
        "\n",
        "    return graph"
      ],
      "metadata": {
        "id": "QZ3BeQtv3QIF"
      },
      "execution_count": null,
      "outputs": []
    },
    {
      "cell_type": "code",
      "source": [
        "# Load the protein sequence dataset.\n",
        "protein_sequences = []\n",
        "protein_functions = []\n",
        "with open(\"trainData.csv\", \"r\") as f:\n",
        "    for line in f:\n",
        "        protein_sequences.append(line.split(\",\")[0])\n",
        "        protein_functions.append(line.split(\",\")[2])"
      ],
      "metadata": {
        "id": "8AzAqvFT3R4u"
      },
      "execution_count": null,
      "outputs": []
    },
    {
      "cell_type": "code",
      "source": [
        "# Convert the protein sequences to a graph database.\n",
        "graph_database = []\n",
        "for protein_sequence in protein_sequences:\n",
        "    graph = convert_protein_sequence_to_graph(protein_sequence)\n",
        "    graph_database.append(graph)"
      ],
      "metadata": {
        "id": "bD5sKIa-3xXF"
      },
      "execution_count": null,
      "outputs": []
    },
    {
      "cell_type": "code",
      "source": [
        "print(graph)"
      ],
      "metadata": {
        "colab": {
          "base_uri": "https://localhost:8080/"
        },
        "id": "agM9CDBo3zvA",
        "outputId": "3807bd7c-5cba-4c78-e695-9b0555eeb8b6"
      },
      "execution_count": null,
      "outputs": [
        {
          "output_type": "stream",
          "name": "stdout",
          "text": [
            "Graph with 20 nodes and 178 edges\n"
          ]
        }
      ]
    },
    {
      "cell_type": "code",
      "source": [
        "def encode_protein_sequence_with_one_hot_encoding(protein_sequence):\n",
        "    graph_features = []\n",
        "    for amino_acid in protein_sequence:\n",
        "        graph_features.append(np.array([1, 0, 0, 0, 0, 0, 0, 0, 0], dtype=np.float32))\n",
        "\n",
        "    graph_features = np.array(graph_features)\n",
        "    return graph_features"
      ],
      "metadata": {
        "id": "pIrPSnok328U"
      },
      "execution_count": null,
      "outputs": []
    },
    {
      "cell_type": "code",
      "source": [
        "# Encode the protein sequences into graph features using one-hot encoding.\n",
        "graph_features = []\n",
        "for protein_sequence in protein_sequences:\n",
        "    graph_features.append(encode_protein_sequence_with_one_hot_encoding(protein_sequence))"
      ],
      "metadata": {
        "id": "H2ZXiuyc35_i"
      },
      "execution_count": null,
      "outputs": []
    },
    {
      "cell_type": "code",
      "source": [
        "# Save the graph features to a file.\n",
        "np.save(\"graph_features.npy\", graph_features)"
      ],
      "metadata": {
        "id": "6Vu7pHZA38ly",
        "colab": {
          "base_uri": "https://localhost:8080/"
        },
        "outputId": "bbe0086b-4df1-4921-c276-80a48dd6febf"
      },
      "execution_count": null,
      "outputs": [
        {
          "output_type": "stream",
          "name": "stderr",
          "text": [
            "/usr/local/lib/python3.10/dist-packages/numpy/lib/npyio.py:521: VisibleDeprecationWarning: Creating an ndarray from ragged nested sequences (which is a list-or-tuple of lists-or-tuples-or ndarrays with different lengths or shapes) is deprecated. If you meant to do this, you must specify 'dtype=object' when creating the ndarray.\n",
            "  arr = np.asanyarray(arr)\n"
          ]
        }
      ]
    },
    {
      "cell_type": "code",
      "source": [
        "print(graph_features)"
      ],
      "metadata": {
        "colab": {
          "base_uri": "https://localhost:8080/"
        },
        "id": "X-BPIgYR3-l8",
        "outputId": "0b10969d-68eb-492f-b4a1-443cdc75d2bf"
      },
      "execution_count": null,
      "outputs": [
        {
          "output_type": "stream",
          "name": "stderr",
          "text": [
            "IOPub data rate exceeded.\n",
            "The notebook server will temporarily stop sending output\n",
            "to the client in order to avoid crashing it.\n",
            "To change this limit, set the config variable\n",
            "`--NotebookApp.iopub_data_rate_limit`.\n",
            "\n",
            "Current values:\n",
            "NotebookApp.iopub_data_rate_limit=1000000.0 (bytes/sec)\n",
            "NotebookApp.rate_limit_window=3.0 (secs)\n",
            "\n"
          ]
        }
      ]
    },
    {
      "cell_type": "code",
      "source": [
        "import torch\n",
        "import torch.nn as nn\n",
        "import torch.optim as optim\n",
        "from torch_geometric.data import DataLoader\n",
        "from torch_geometric.nn import GINConv\n",
        "from torch_geometric.datasets import TUDataset\n",
        "\n",
        "# Define your GIN model class.\n",
        "class GINModel(torch.nn.Module):\n",
        "    def __init__(self, num_features, num_classes):\n",
        "        super(GINModel, self).__init__()\n",
        "        self.conv1 = GINConv(nn=nn.Sequential(nn.Linear(num_features, 32), nn.ReLU()))\n",
        "        self.conv2 = GINConv(nn=nn.Sequential(nn.Linear(32, 64), nn.ReLU()))\n",
        "        self.fc = nn.Linear(64, num_classes)\n",
        "\n",
        "    def forward(self, x, edge_index):\n",
        "        x = self.conv1(x, edge_index)\n",
        "        x = self.conv2(x, edge_index)\n",
        "        x = torch.mean(x, dim=0)  # Global pooling (mean)\n",
        "        x = self.fc(x)\n",
        "        return x"
      ],
      "metadata": {
        "id": "4MtJfpki9qyN"
      },
      "execution_count": null,
      "outputs": []
    },
    {
      "cell_type": "code",
      "source": [
        "# Create an instance of the GraphSAGE model\n",
        "model = GraphSAGE(num_features=128, num_classes=10)"
      ],
      "metadata": {
        "id": "5xt3rVop9vF1"
      },
      "execution_count": null,
      "outputs": []
    },
    {
      "cell_type": "code",
      "source": [
        "import csv\n",
        "import networkx as nx\n",
        "\n",
        "# Load the graph database from the CSV file.\n",
        "graph_database = nx.Graph()\n",
        "with open(\"trainData.csv\", \"r\") as f:\n",
        "    for line in f:\n",
        "        # Split the line into columns.\n",
        "        columns = line.split(\",\")\n",
        "\n",
        "        # Create a node for each amino acid in the sequence.\n",
        "        for amino_acid in columns[0]:\n",
        "            graph_database.add_node(amino_acid)\n",
        "\n",
        "        # Connect the nodes with edges based on the interactions between the amino acids.\n",
        "        for i in range(len(columns[0]) - 1):\n",
        "            graph_database.add_edge(columns[0][i], columns[0][i + 1])"
      ],
      "metadata": {
        "id": "QzWqbqNF-nZq"
      },
      "execution_count": null,
      "outputs": []
    },
    {
      "cell_type": "code",
      "source": [
        "# Get the edge index.\n",
        "edge_index = []\n",
        "for edge in graph_database.edges():\n",
        "    edge_index.append(edge)"
      ],
      "metadata": {
        "id": "KpGeOlYO_67z"
      },
      "execution_count": null,
      "outputs": []
    },
    {
      "cell_type": "code",
      "source": [
        "print(edge_index)"
      ],
      "metadata": {
        "colab": {
          "base_uri": "https://localhost:8080/"
        },
        "id": "uKfgPDNaBECV",
        "outputId": "55bb631a-a33a-4728-838c-3000e322e5df"
      },
      "execution_count": null,
      "outputs": [
        {
          "output_type": "stream",
          "name": "stdout",
          "text": [
            "[('M', 'S'), ('M', 'Q'), ('M', 'L'), ('M', 'Y'), ('M', 'I'), ('M', 'R'), ('M', 'K'), ('M', 'M'), ('M', 'A'), ('M', 'D'), ('M', 'E'), ('M', 'P'), ('M', 'F'), ('M', 'G'), ('M', 'W'), ('M', 'V'), ('M', 'T'), ('M', 'H'), ('M', 'N'), ('M', 'C'), ('M', 'X'), ('S', 'L'), ('S', 'F'), ('S', 'I'), ('S', 'V'), ('S', 'H'), ('S', 'Y'), ('S', 'S'), ('S', 'G'), ('S', 'R'), ('S', 'W'), ('S', 'N'), ('S', 'E'), ('S', 'C'), ('S', 'T'), ('S', 'K'), ('S', 'D'), ('S', 'A'), ('S', 'Q'), ('S', 'P'), ('S', 'X'), ('S', 'U'), ('S', 'B'), ('L', 'Q'), ('L', 'I'), ('L', 'K'), ('L', 'A'), ('L', 'D'), ('L', 'E'), ('L', 'F'), ('L', 'L'), ('L', 'R'), ('L', 'H'), ('L', 'G'), ('L', 'T'), ('L', 'Y'), ('L', 'V'), ('L', 'C'), ('L', 'N'), ('L', 'P'), ('L', 'W'), ('L', 'X'), ('L', 'B'), ('L', 'U'), ('Q', 'R'), ('Q', 'F'), ('Q', 'N'), ('Q', 'I'), ('Q', 'A'), ('Q', 'G'), ('Q', 'V'), ('Q', 'K'), ('Q', 'H'), ('Q', 'C'), ('Q', 'Y'), ('Q', 'T'), ('Q', 'E'), ('Q', 'P'), ('Q', 'D'), ('Q', 'Q'), ('Q', 'W'), ('Q', 'X'), ('Q', 'Z'), ('Q', 'U'), ('Q', 'B'), ('I', 'K'), ('I', 'Y'), ('I', 'C'), ('I', 'P'), ('I', 'R'), ('I', 'F'), ('I', 'A'), ('I', 'E'), ('I', 'G'), ('I', 'H'), ('I', 'N'), ('I', 'T'), ('I', 'D'), ('I', 'I'), ('I', 'V'), ('I', 'W'), ('I', 'U'), ('I', 'X'), ('I', 'Z'), ('K', 'P'), ('K', 'E'), ('K', 'F'), ('K', 'K'), ('K', 'C'), ('K', 'A'), ('K', 'D'), ('K', 'V'), ('K', 'R'), ('K', 'T'), ('K', 'G'), ('K', 'N'), ('K', 'H'), ('K', 'W'), ('K', 'Y'), ('K', 'X'), ('K', 'B'), ('P', 'E'), ('P', 'F'), ('P', 'R'), ('P', 'N'), ('P', 'D'), ('P', 'V'), ('P', 'P'), ('P', 'G'), ('P', 'T'), ('P', 'Y'), ('P', 'W'), ('P', 'C'), ('P', 'A'), ('P', 'H'), ('P', 'X'), ('P', 'U'), ('P', 'Z'), ('E', 'F'), ('E', 'E'), ('E', 'A'), ('E', 'R'), ('E', 'V'), ('E', 'T'), ('E', 'H'), ('E', 'D'), ('E', 'G'), ('E', 'N'), ('E', 'W'), ('E', 'Y'), ('E', 'C'), ('E', 'X'), ('E', 'Z'), ('A', 'F'), ('A', 'R'), ('A', 'V'), ('A', 'A'), ('A', 'C'), ('A', 'Y'), ('A', 'G'), ('A', 'D'), ('A', 'W'), ('A', 'T'), ('A', 'H'), ('A', 'N'), ('A', 'X'), ('F', 'D'), ('F', 'N'), ('F', 'T'), ('F', 'V'), ('F', 'R'), ('F', 'G'), ('F', 'F'), ('F', 'Y'), ('F', 'H'), ('F', 'W'), ('F', 'C'), ('F', 'U'), ('F', 'X'), ('Y', 'R'), ('Y', 'N'), ('Y', 'H'), ('Y', 'T'), ('Y', 'G'), ('Y', 'V'), ('Y', 'D'), ('Y', 'C'), ('Y', 'W'), ('Y', 'Y'), ('Y', 'X'), ('Y', 'U'), ('Y', 'B'), ('R', 'R'), ('R', 'G'), ('R', 'D'), ('R', 'T'), ('R', 'V'), ('R', 'C'), ('R', 'N'), ('R', 'H'), ('R', 'W'), ('R', 'X'), ('R', 'U'), ('G', 'D'), ('G', 'V'), ('G', 'C'), ('G', 'T'), ('G', 'N'), ('G', 'H'), ('G', 'G'), ('G', 'W'), ('G', 'X'), ('G', 'U'), ('G', 'B'), ('D', 'N'), ('D', 'H'), ('D', 'V'), ('D', 'T'), ('D', 'W'), ('D', 'C'), ('D', 'D'), ('D', 'X'), ('C', 'V'), ('C', 'H'), ('C', 'T'), ('C', 'C'), ('C', 'N'), ('C', 'W'), ('C', 'X'), ('C', 'U'), ('V', 'N'), ('V', 'T'), ('V', 'H'), ('V', 'V'), ('V', 'W'), ('V', 'X'), ('V', 'U'), ('N', 'H'), ('N', 'T'), ('N', 'W'), ('N', 'N'), ('N', 'X'), ('H', 'T'), ('H', 'W'), ('H', 'H'), ('H', 'U'), ('T', 'W'), ('T', 'T'), ('T', 'X'), ('T', 'U'), ('W', 'W'), ('W', 'X'), ('X', 'X'), ('B', 'B')]\n"
          ]
        }
      ]
    },
    {
      "cell_type": "code",
      "source": [
        "edge_list =[('M', 'S'), ('M', 'Q'), ('M', 'L'), ('M', 'Y'), ('M', 'I'), ('M', 'R'), ('M', 'K'), ('M', 'M'), ('M', 'A'), ('M', 'D'), ('M', 'E'), ('M', 'P'), ('M', 'F'), ('M', 'G'), ('M', 'W'), ('M', 'V'), ('M', 'T'), ('M', 'H'), ('M', 'N'), ('M', 'C'), ('M', 'X'), ('S', 'L'), ('S', 'F'), ('S', 'I'), ('S', 'V'), ('S', 'H'), ('S', 'Y'), ('S', 'S'), ('S', 'G'), ('S', 'R'), ('S', 'W'), ('S', 'N'), ('S', 'E'), ('S', 'C'), ('S', 'T'), ('S', 'K'), ('S', 'D'), ('S', 'A'), ('S', 'Q'), ('S', 'P'), ('S', 'X'), ('S', 'U'), ('S', 'B'), ('L', 'Q'), ('L', 'I'), ('L', 'K'), ('L', 'A'), ('L', 'D'), ('L', 'E'), ('L', 'F'), ('L', 'L'), ('L', 'R'), ('L', 'H'), ('L', 'G'), ('L', 'T'), ('L', 'Y'), ('L', 'V'), ('L', 'C'), ('L', 'N'), ('L', 'P'), ('L', 'W'), ('L', 'X'), ('L', 'B'), ('L', 'U'), ('Q', 'R'), ('Q', 'F'), ('Q', 'N'), ('Q', 'I'), ('Q', 'A'), ('Q', 'G'), ('Q', 'V'), ('Q', 'K'), ('Q', 'H'), ('Q', 'C'), ('Q', 'Y'), ('Q', 'T'), ('Q', 'E'), ('Q', 'P'), ('Q', 'D'), ('Q', 'Q'), ('Q', 'W'), ('Q', 'X'), ('Q', 'Z'), ('Q', 'U'), ('Q', 'B'), ('I', 'K'), ('I', 'Y'), ('I', 'C'), ('I', 'P'), ('I', 'R'), ('I', 'F'), ('I', 'A'), ('I', 'E'), ('I', 'G'), ('I', 'H'), ('I', 'N'), ('I', 'T'), ('I', 'D'), ('I', 'I'), ('I', 'V'), ('I', 'W'), ('I', 'U'), ('I', 'X'), ('I', 'Z'), ('K', 'P'), ('K', 'E'), ('K', 'F'), ('K', 'K'), ('K', 'C'), ('K', 'A'), ('K', 'D'), ('K', 'V'), ('K', 'R'), ('K', 'T'), ('K', 'G'), ('K', 'N'), ('K', 'H'), ('K', 'W'), ('K', 'Y'), ('K', 'X'), ('K', 'B'), ('P', 'E'), ('P', 'F'), ('P', 'R'), ('P', 'N'), ('P', 'D'), ('P', 'V'), ('P', 'P'), ('P', 'G'), ('P', 'T'), ('P', 'Y'), ('P', 'W'), ('P', 'C'), ('P', 'A'), ('P', 'H'), ('P', 'X'), ('P', 'U'), ('P', 'Z'), ('E', 'F'), ('E', 'E'), ('E', 'A'), ('E', 'R'), ('E', 'V'), ('E', 'T'), ('E', 'H'), ('E', 'D'), ('E', 'G'), ('E', 'N'), ('E', 'W'), ('E', 'Y'), ('E', 'C'), ('E', 'X'), ('E', 'Z'), ('A', 'F'), ('A', 'R'), ('A', 'V'), ('A', 'A'), ('A', 'C'), ('A', 'Y'), ('A', 'G'), ('A', 'D'), ('A', 'W'), ('A', 'T'), ('A', 'H'), ('A', 'N'), ('A', 'X'), ('F', 'D'), ('F', 'N'), ('F', 'T'), ('F', 'V'), ('F', 'R'), ('F', 'G'), ('F', 'F'), ('F', 'Y'), ('F', 'H'), ('F', 'W'), ('F', 'C'), ('F', 'U'), ('F', 'X'), ('Y', 'R'), ('Y', 'N'), ('Y', 'H'), ('Y', 'T'), ('Y', 'G'), ('Y', 'V'), ('Y', 'D'), ('Y', 'C'), ('Y', 'W'), ('Y', 'Y'), ('Y', 'X'), ('Y', 'U'), ('Y', 'B'), ('R', 'R'), ('R', 'G'), ('R', 'D'), ('R', 'T'), ('R', 'V'), ('R', 'C'), ('R', 'N'), ('R', 'H'), ('R', 'W'), ('R', 'X'), ('R', 'U'), ('G', 'D'), ('G', 'V'), ('G', 'C'), ('G', 'T'), ('G', 'N'), ('G', 'H'), ('G', 'G'), ('G', 'W'), ('G', 'X'), ('G', 'U'), ('G', 'B'), ('D', 'N'), ('D', 'H'), ('D', 'V'), ('D', 'T'), ('D', 'W'), ('D', 'C'), ('D', 'D'), ('D', 'X'), ('C', 'V'), ('C', 'H'), ('C', 'T'), ('C', 'C'), ('C', 'N'), ('C', 'W'), ('C', 'X'), ('C', 'U'), ('V', 'N'), ('V', 'T'), ('V', 'H'), ('V', 'V'), ('V', 'W'), ('V', 'X'), ('V', 'U'), ('N', 'H'), ('N', 'T'), ('N', 'W'), ('N', 'N'), ('N', 'X'), ('H', 'T'), ('H', 'W'), ('H', 'H'), ('H', 'U'), ('T', 'W'), ('T', 'T'), ('T', 'X'), ('T', 'U'), ('W', 'W'), ('W', 'X'), ('X', 'X'), ('B', 'B')]"
      ],
      "metadata": {
        "id": "CGByNwBfBmjV"
      },
      "execution_count": null,
      "outputs": []
    },
    {
      "cell_type": "code",
      "source": [
        "# Create a dictionary to map node labels to unique integer IDs\n",
        "node_to_id = {node: i for i, node in enumerate(set(node for edge in edge_list for node in edge))}\n",
        "\n",
        "# Convert the edge list to an integer tensor\n",
        "edge_index = torch.tensor([[node_to_id[edge[0]], node_to_id[edge[1]]] for edge in edge_list], dtype=torch.long).t()"
      ],
      "metadata": {
        "id": "JxhJYZITCaI3"
      },
      "execution_count": null,
      "outputs": []
    },
    {
      "cell_type": "code",
      "source": [
        "import networkx as nx\n",
        "\n",
        "# Assuming you have created the `graph_database` as described in your code.\n",
        "\n",
        "# Define the filename for the GraphML file.\n",
        "file_name = \"graph_database.graphml\"\n",
        "\n",
        "# Save the graph to a GraphML file.\n",
        "nx.write_graphml(graph_database, file_name)\n",
        "\n",
        "print(f\"Graph database saved to {file_name}\")"
      ],
      "metadata": {
        "colab": {
          "base_uri": "https://localhost:8080/"
        },
        "id": "J_JM3FjMMHn4",
        "outputId": "cc230fb5-ef3c-4275-c4e4-b3e049543645"
      },
      "execution_count": null,
      "outputs": [
        {
          "output_type": "stream",
          "name": "stdout",
          "text": [
            "Graph database saved to graph_database.graphml\n"
          ]
        }
      ]
    },
    {
      "cell_type": "code",
      "source": [
        "import torch\n",
        "import networkx as nx\n",
        "\n",
        "# Example edge_list containing string labels for nodes.\n",
        "edge_list = [('M', 'S'), ('M', 'Q'), ('M', 'L'), ('M', 'Y'), ('M', 'I'), ('M', 'R'), ('M', 'K'), ('M', 'M'), ('M', 'A'), ('M', 'D'), ('M', 'E'), ('M', 'P'), ('M', 'F'), ('M', 'G'), ('M', 'W'), ('M', 'V'), ('M', 'T'), ('M', 'H'), ('M', 'N'), ('M', 'C'), ('M', 'X'), ('S', 'L'), ('S', 'F'), ('S', 'I'), ('S', 'V'), ('S', 'H'), ('S', 'Y'), ('S', 'S'), ('S', 'G'), ('S', 'R'), ('S', 'W'), ('S', 'N'), ('S', 'E'), ('S', 'C'), ('S', 'T'), ('S', 'K'), ('S', 'D'), ('S', 'A'), ('S', 'Q'), ('S', 'P'), ('S', 'X'), ('S', 'U'), ('S', 'B'), ('L', 'Q'), ('L', 'I'), ('L', 'K'), ('L', 'A'), ('L', 'D'), ('L', 'E'), ('L', 'F'), ('L', 'L'), ('L', 'R'), ('L', 'H'), ('L', 'G'), ('L', 'T'), ('L', 'Y'), ('L', 'V'), ('L', 'C'), ('L', 'N'), ('L', 'P'), ('L', 'W'), ('L', 'X'), ('L', 'B'), ('L', 'U'), ('Q', 'R'), ('Q', 'F'), ('Q', 'N'), ('Q', 'I'), ('Q', 'A'), ('Q', 'G'), ('Q', 'V'), ('Q', 'K'), ('Q', 'H'), ('Q', 'C'), ('Q', 'Y'), ('Q', 'T'), ('Q', 'E'), ('Q', 'P'), ('Q', 'D'), ('Q', 'Q'), ('Q', 'W'), ('Q', 'X'), ('Q', 'Z'), ('Q', 'U'), ('Q', 'B'), ('I', 'K'), ('I', 'Y'), ('I', 'C'), ('I', 'P'), ('I', 'R'), ('I', 'F'), ('I', 'A'), ('I', 'E'), ('I', 'G'), ('I', 'H'), ('I', 'N'), ('I', 'T'), ('I', 'D'), ('I', 'I'), ('I', 'V'), ('I', 'W'), ('I', 'U'), ('I', 'X'), ('I', 'Z'), ('K', 'P'), ('K', 'E'), ('K', 'F'), ('K', 'K'), ('K', 'C'), ('K', 'A'), ('K', 'D'), ('K', 'V'), ('K', 'R'), ('K', 'T'), ('K', 'G'), ('K', 'N'), ('K', 'H'), ('K', 'W'), ('K', 'Y'), ('K', 'X'), ('K', 'B'), ('P', 'E'), ('P', 'F'), ('P', 'R'), ('P', 'N'), ('P', 'D'), ('P', 'V'), ('P', 'P'), ('P', 'G'), ('P', 'T'), ('P', 'Y'), ('P', 'W'), ('P', 'C'), ('P', 'A'), ('P', 'H'), ('P', 'X'), ('P', 'U'), ('P', 'Z'), ('E', 'F'), ('E', 'E'), ('E', 'A'), ('E', 'R'), ('E', 'V'), ('E', 'T'), ('E', 'H'), ('E', 'D'), ('E', 'G'), ('E', 'N'), ('E', 'W'), ('E', 'Y'), ('E', 'C'), ('E', 'X'), ('E', 'Z'), ('A', 'F'), ('A', 'R'), ('A', 'V'), ('A', 'A'), ('A', 'C'), ('A', 'Y'), ('A', 'G'), ('A', 'D'), ('A', 'W'), ('A', 'T'), ('A', 'H'), ('A', 'N'), ('A', 'X'), ('F', 'D'), ('F', 'N'), ('F', 'T'), ('F', 'V'), ('F', 'R'), ('F', 'G'), ('F', 'F'), ('F', 'Y'), ('F', 'H'), ('F', 'W'), ('F', 'C'), ('F', 'U'), ('F', 'X'), ('Y', 'R'), ('Y', 'N'), ('Y', 'H'), ('Y', 'T'), ('Y', 'G'), ('Y', 'V'), ('Y', 'D'), ('Y', 'C'), ('Y', 'W'), ('Y', 'Y'), ('Y', 'X'), ('Y', 'U'), ('Y', 'B'), ('R', 'R'), ('R', 'G'), ('R', 'D'), ('R', 'T'), ('R', 'V'), ('R', 'C'), ('R', 'N'), ('R', 'H'), ('R', 'W'), ('R', 'X'), ('R', 'U'), ('G', 'D'), ('G', 'V'), ('G', 'C'), ('G', 'T'), ('G', 'N'), ('G', 'H'), ('G', 'G'), ('G', 'W'), ('G', 'X'), ('G', 'U'), ('G', 'B'), ('D', 'N'), ('D', 'H'), ('D', 'V'), ('D', 'T'), ('D', 'W'), ('D', 'C'), ('D', 'D'), ('D', 'X'), ('C', 'V'), ('C', 'H'), ('C', 'T'), ('C', 'C'), ('C', 'N'), ('C', 'W'), ('C', 'X'), ('C', 'U'), ('V', 'N'), ('V', 'T'), ('V', 'H'), ('V', 'V'), ('V', 'W'), ('V', 'X'), ('V', 'U'), ('N', 'H'), ('N', 'T'), ('N', 'W'), ('N', 'N'), ('N', 'X'), ('H', 'T'), ('H', 'W'), ('H', 'H'), ('H', 'U'), ('T', 'W'), ('T', 'T'), ('T', 'X'), ('T', 'U'), ('W', 'W'), ('W', 'X'), ('X', 'X'), ('B', 'B')]\n",
        "\n",
        "# Create a dictionary to map node labels to unique integer IDs.\n",
        "node_to_id = {node: i for i, node in enumerate(set(node for edge in edge_list for node in edge))}\n",
        "\n",
        "# Convert the edge_list to an integer tensor.\n",
        "edge_index = torch.tensor([[node_to_id[edge[0]], node_to_id[edge[1]]] for edge in edge_list], dtype=torch.long).t()\n",
        "\n",
        "print(edge_index)"
      ],
      "metadata": {
        "id": "0UIOGKSL_XTf",
        "colab": {
          "base_uri": "https://localhost:8080/"
        },
        "outputId": "5a960156-27c3-4b53-9f13-443034094c0b"
      },
      "execution_count": 104,
      "outputs": [
        {
          "output_type": "stream",
          "name": "stdout",
          "text": [
            "tensor([[ 3,  3,  3,  3,  3,  3,  3,  3,  3,  3,  3,  3,  3,  3,  3,  3,  3,  3,\n",
            "          3,  3,  3, 22, 22, 22, 22, 22, 22, 22, 22, 22, 22, 22, 22, 22, 22, 22,\n",
            "         22, 22, 22, 22, 22, 22, 22,  4,  4,  4,  4,  4,  4,  4,  4,  4,  4,  4,\n",
            "          4,  4,  4,  4,  4,  4,  4,  4,  4,  4, 13, 13, 13, 13, 13, 13, 13, 13,\n",
            "         13, 13, 13, 13, 13, 13, 13, 13, 13, 13, 13, 13, 13, 10, 10, 10, 10, 10,\n",
            "         10, 10, 10, 10, 10, 10, 10, 10, 10, 10, 10, 10, 10, 10, 19, 19, 19, 19,\n",
            "         19, 19, 19, 19, 19, 19, 19, 19, 19, 19, 19, 19, 19,  8,  8,  8,  8,  8,\n",
            "          8,  8,  8,  8,  8,  8,  8,  8,  8,  8,  8,  8,  5,  5,  5,  5,  5,  5,\n",
            "          5,  5,  5,  5,  5,  5,  5,  5,  5,  9,  9,  9,  9,  9,  9,  9,  9,  9,\n",
            "          9,  9,  9,  9, 12, 12, 12, 12, 12, 12, 12, 12, 12, 12, 12, 12, 12, 18,\n",
            "         18, 18, 18, 18, 18, 18, 18, 18, 18, 18, 18, 18,  1,  1,  1,  1,  1,  1,\n",
            "          1,  1,  1,  1,  1,  2,  2,  2,  2,  2,  2,  2,  2,  2,  2,  2, 20, 20,\n",
            "         20, 20, 20, 20, 20, 20, 11, 11, 11, 11, 11, 11, 11, 11, 23, 23, 23, 23,\n",
            "         23, 23, 23, 17, 17, 17, 17, 17, 21, 21, 21, 21,  0,  0,  0,  0,  6,  6,\n",
            "         14, 16],\n",
            "        [22, 13,  4, 18, 10,  1, 19,  3,  9, 20,  5,  8, 12,  2,  6, 23,  0, 21,\n",
            "         17, 11, 14,  4, 12, 10, 23, 21, 18, 22,  2,  1,  6, 17,  5, 11,  0, 19,\n",
            "         20,  9, 13,  8, 14, 15, 16, 13, 10, 19,  9, 20,  5, 12,  4,  1, 21,  2,\n",
            "          0, 18, 23, 11, 17,  8,  6, 14, 16, 15,  1, 12, 17, 10,  9,  2, 23, 19,\n",
            "         21, 11, 18,  0,  5,  8, 20, 13,  6, 14,  7, 15, 16, 19, 18, 11,  8,  1,\n",
            "         12,  9,  5,  2, 21, 17,  0, 20, 10, 23,  6, 15, 14,  7,  8,  5, 12, 19,\n",
            "         11,  9, 20, 23,  1,  0,  2, 17, 21,  6, 18, 14, 16,  5, 12,  1, 17, 20,\n",
            "         23,  8,  2,  0, 18,  6, 11,  9, 21, 14, 15,  7, 12,  5,  9,  1, 23,  0,\n",
            "         21, 20,  2, 17,  6, 18, 11, 14,  7, 12,  1, 23,  9, 11, 18,  2, 20,  6,\n",
            "          0, 21, 17, 14, 20, 17,  0, 23,  1,  2, 12, 18, 21,  6, 11, 15, 14,  1,\n",
            "         17, 21,  0,  2, 23, 20, 11,  6, 18, 14, 15, 16,  1,  2, 20,  0, 23, 11,\n",
            "         17, 21,  6, 14, 15, 20, 23, 11,  0, 17, 21,  2,  6, 14, 15, 16, 17, 21,\n",
            "         23,  0,  6, 11, 20, 14, 23, 21,  0, 11, 17,  6, 14, 15, 17,  0, 21, 23,\n",
            "          6, 14, 15, 21,  0,  6, 17, 14,  0,  6, 21, 15,  6,  0, 14, 15,  6, 14,\n",
            "         14, 16]])\n"
          ]
        }
      ]
    },
    {
      "cell_type": "code",
      "source": [
        "print(num_classes)"
      ],
      "metadata": {
        "colab": {
          "base_uri": "https://localhost:8080/"
        },
        "id": "EefHEypEQ8Ic",
        "outputId": "6d456f19-e18a-4c8d-fa40-2ce3858b9334"
      },
      "execution_count": 113,
      "outputs": [
        {
          "output_type": "stream",
          "name": "stdout",
          "text": [
            "128\n"
          ]
        }
      ]
    },
    {
      "cell_type": "code",
      "source": [
        "# Create a PyTorch Geometric Data object.\n",
        "data = Data(x=graph_features, edge_index=edge_index)"
      ],
      "metadata": {
        "id": "sbM8ovEKPCs9"
      },
      "execution_count": 105,
      "outputs": []
    },
    {
      "cell_type": "code",
      "source": [
        "# Define your data loader.\n",
        "data_loader = DataLoader(data, batch_size=64, shuffle=True)"
      ],
      "metadata": {
        "colab": {
          "base_uri": "https://localhost:8080/"
        },
        "id": "UqSlWVJHPR3B",
        "outputId": "3f1be331-97ac-46f7-fe29-de40de7e29a0"
      },
      "execution_count": 106,
      "outputs": [
        {
          "output_type": "stream",
          "name": "stderr",
          "text": [
            "/usr/local/lib/python3.10/dist-packages/torch_geometric/deprecation.py:22: UserWarning: 'data.DataLoader' is deprecated, use 'loader.DataLoader' instead\n",
            "  warnings.warn(out)\n"
          ]
        }
      ]
    },
    {
      "cell_type": "code",
      "source": [
        "# Initialize your GIN model, loss function, and optimizer.\n",
        "num_features = len(graph_features[0])  # Use the length of the first feature vector\n",
        "\n",
        "model = GINModel(num_features=num_features, num_classes=num_classes)\n",
        "criterion = torch.nn.CrossEntropyLoss()\n",
        "optimizer = optim.Adam(model.parameters(), lr=0.001)\n"
      ],
      "metadata": {
        "id": "Sg8SmlIjPUu8"
      },
      "execution_count": 114,
      "outputs": []
    },
    {
      "cell_type": "code",
      "source": [
        "import networkx as nx\n",
        "\n",
        "# Specify the path to your GraphML file.\n",
        "graphml_file = \"graph_database.graphml\"\n",
        "\n",
        "# Load the graph from the GraphML file.\n",
        "graph_database = nx.read_graphml(graphml_file)"
      ],
      "metadata": {
        "id": "kwYBD4pRPsYY"
      },
      "execution_count": 119,
      "outputs": []
    },
    {
      "cell_type": "code",
      "source": [
        "# Create a data loader\n",
        "data_loader = DataLoader(graph_database, batch_size=32)"
      ],
      "metadata": {
        "id": "7B2UlfFMSHZy"
      },
      "execution_count": 122,
      "outputs": []
    }
  ]
}